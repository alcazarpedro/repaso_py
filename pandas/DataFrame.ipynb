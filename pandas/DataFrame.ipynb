{
 "cells": [
  {
   "cell_type": "code",
   "execution_count": 1,
   "id": "f86de3a6",
   "metadata": {},
   "outputs": [],
   "source": [
    "import pandas as pd\n",
    "import numpy as np"
   ]
  },
  {
   "cell_type": "code",
   "execution_count": 6,
   "id": "4537daad",
   "metadata": {},
   "outputs": [
    {
     "data": {
      "text/plain": [
       "{'Nombres': ['Ana García',\n",
       "  'Luis Martínez',\n",
       "  'Sofía Rodríguez',\n",
       "  'Carlos Fernández',\n",
       "  'María López',\n",
       "  'Pedro González',\n",
       "  'Laura Pérez',\n",
       "  'Diego Sánchez',\n",
       "  'Elena Ramírez',\n",
       "  'Pablo Torres'],\n",
       " 'edades': [35, 28, 42, 50, 31, 26, 39, 45, 33, 29],\n",
       " 'Salarios': [55000.75,\n",
       "  48000.5,\n",
       "  62000.25,\n",
       "  78000.0,\n",
       "  51000.9,\n",
       "  45000.1,\n",
       "  59000.8,\n",
       "  72000.4,\n",
       "  53000.6,\n",
       "  49000.3]}"
      ]
     },
     "execution_count": 6,
     "metadata": {},
     "output_type": "execute_result"
    }
   ],
   "source": [
    "empleados = {\n",
    "    'Nombres' : [\n",
    "        'Ana García', 'Luis Martínez', 'Sofía Rodríguez', 'Carlos Fernández',\n",
    "        'María López', 'Pedro González', 'Laura Pérez', 'Diego Sánchez',\n",
    "        'Elena Ramírez', 'Pablo Torres'\n",
    "\n",
    "    ],\n",
    "    'edades':[35, 28, 42, 50, 31, 26, 39, 45, 33, 29],\n",
    "    'Salarios':[55000.75, 48000.50, 62000.25, 78000.00, 51000.90,\n",
    "        45000.10, 59000.80, 72000.40, 53000.60, 49000.30]\n",
    "}\n",
    "\n",
    "for k,v in emplados.items():\n",
    "    k : v\n",
    "empleados"
   ]
  },
  {
   "cell_type": "code",
   "execution_count": 7,
   "id": "44dde371",
   "metadata": {},
   "outputs": [
    {
     "data": {
      "application/vnd.microsoft.datawrangler.viewer.v0+json": {
       "columns": [
        {
         "name": "index",
         "rawType": "int64",
         "type": "integer"
        },
        {
         "name": "Nombres",
         "rawType": "object",
         "type": "string"
        },
        {
         "name": "edades",
         "rawType": "int64",
         "type": "integer"
        },
        {
         "name": "Salarios",
         "rawType": "float64",
         "type": "float"
        }
       ],
       "ref": "6f0365a5-a9a5-4306-822f-8e014c8724eb",
       "rows": [
        [
         "0",
         "Ana García",
         "35",
         "55000.75"
        ],
        [
         "1",
         "Luis Martínez",
         "28",
         "48000.5"
        ],
        [
         "2",
         "Sofía Rodríguez",
         "42",
         "62000.25"
        ],
        [
         "3",
         "Carlos Fernández",
         "50",
         "78000.0"
        ],
        [
         "4",
         "María López",
         "31",
         "51000.9"
        ],
        [
         "5",
         "Pedro González",
         "26",
         "45000.1"
        ],
        [
         "6",
         "Laura Pérez",
         "39",
         "59000.8"
        ],
        [
         "7",
         "Diego Sánchez",
         "45",
         "72000.4"
        ],
        [
         "8",
         "Elena Ramírez",
         "33",
         "53000.6"
        ],
        [
         "9",
         "Pablo Torres",
         "29",
         "49000.3"
        ]
       ],
       "shape": {
        "columns": 3,
        "rows": 10
       }
      },
      "text/html": [
       "<div>\n",
       "<style scoped>\n",
       "    .dataframe tbody tr th:only-of-type {\n",
       "        vertical-align: middle;\n",
       "    }\n",
       "\n",
       "    .dataframe tbody tr th {\n",
       "        vertical-align: top;\n",
       "    }\n",
       "\n",
       "    .dataframe thead th {\n",
       "        text-align: right;\n",
       "    }\n",
       "</style>\n",
       "<table border=\"1\" class=\"dataframe\">\n",
       "  <thead>\n",
       "    <tr style=\"text-align: right;\">\n",
       "      <th></th>\n",
       "      <th>Nombres</th>\n",
       "      <th>edades</th>\n",
       "      <th>Salarios</th>\n",
       "    </tr>\n",
       "  </thead>\n",
       "  <tbody>\n",
       "    <tr>\n",
       "      <th>0</th>\n",
       "      <td>Ana García</td>\n",
       "      <td>35</td>\n",
       "      <td>55000.75</td>\n",
       "    </tr>\n",
       "    <tr>\n",
       "      <th>1</th>\n",
       "      <td>Luis Martínez</td>\n",
       "      <td>28</td>\n",
       "      <td>48000.50</td>\n",
       "    </tr>\n",
       "    <tr>\n",
       "      <th>2</th>\n",
       "      <td>Sofía Rodríguez</td>\n",
       "      <td>42</td>\n",
       "      <td>62000.25</td>\n",
       "    </tr>\n",
       "    <tr>\n",
       "      <th>3</th>\n",
       "      <td>Carlos Fernández</td>\n",
       "      <td>50</td>\n",
       "      <td>78000.00</td>\n",
       "    </tr>\n",
       "    <tr>\n",
       "      <th>4</th>\n",
       "      <td>María López</td>\n",
       "      <td>31</td>\n",
       "      <td>51000.90</td>\n",
       "    </tr>\n",
       "    <tr>\n",
       "      <th>5</th>\n",
       "      <td>Pedro González</td>\n",
       "      <td>26</td>\n",
       "      <td>45000.10</td>\n",
       "    </tr>\n",
       "    <tr>\n",
       "      <th>6</th>\n",
       "      <td>Laura Pérez</td>\n",
       "      <td>39</td>\n",
       "      <td>59000.80</td>\n",
       "    </tr>\n",
       "    <tr>\n",
       "      <th>7</th>\n",
       "      <td>Diego Sánchez</td>\n",
       "      <td>45</td>\n",
       "      <td>72000.40</td>\n",
       "    </tr>\n",
       "    <tr>\n",
       "      <th>8</th>\n",
       "      <td>Elena Ramírez</td>\n",
       "      <td>33</td>\n",
       "      <td>53000.60</td>\n",
       "    </tr>\n",
       "    <tr>\n",
       "      <th>9</th>\n",
       "      <td>Pablo Torres</td>\n",
       "      <td>29</td>\n",
       "      <td>49000.30</td>\n",
       "    </tr>\n",
       "  </tbody>\n",
       "</table>\n",
       "</div>"
      ],
      "text/plain": [
       "            Nombres  edades  Salarios\n",
       "0        Ana García      35  55000.75\n",
       "1     Luis Martínez      28  48000.50\n",
       "2   Sofía Rodríguez      42  62000.25\n",
       "3  Carlos Fernández      50  78000.00\n",
       "4       María López      31  51000.90\n",
       "5    Pedro González      26  45000.10\n",
       "6       Laura Pérez      39  59000.80\n",
       "7     Diego Sánchez      45  72000.40\n",
       "8     Elena Ramírez      33  53000.60\n",
       "9      Pablo Torres      29  49000.30"
      ]
     },
     "execution_count": 7,
     "metadata": {},
     "output_type": "execute_result"
    }
   ],
   "source": [
    "df_empleados = pd.DataFrame(empleados)\n",
    "df_empleados"
   ]
  },
  {
   "cell_type": "code",
   "execution_count": 18,
   "id": "0b55ff1b",
   "metadata": {},
   "outputs": [
    {
     "data": {
      "application/vnd.microsoft.datawrangler.viewer.v0+json": {
       "columns": [
        {
         "name": "index",
         "rawType": "int64",
         "type": "integer"
        },
        {
         "name": "Nombres",
         "rawType": "object",
         "type": "string"
        }
       ],
       "ref": "f00e82b0-8335-487a-a18a-8c8a76bdbe26",
       "rows": [
        [
         "0",
         "Ana García"
        ],
        [
         "1",
         "Luis Martínez"
        ],
        [
         "2",
         "Sofía Rodríguez"
        ],
        [
         "3",
         "Carlos Fernández"
        ],
        [
         "4",
         "María López"
        ],
        [
         "5",
         "Pedro González"
        ],
        [
         "6",
         "Laura Pérez"
        ],
        [
         "7",
         "Diego Sánchez"
        ],
        [
         "8",
         "Elena Ramírez"
        ],
        [
         "9",
         "Pablo Torres"
        ]
       ],
       "shape": {
        "columns": 1,
        "rows": 10
       }
      },
      "text/plain": [
       "0          Ana García\n",
       "1       Luis Martínez\n",
       "2     Sofía Rodríguez\n",
       "3    Carlos Fernández\n",
       "4         María López\n",
       "5      Pedro González\n",
       "6         Laura Pérez\n",
       "7       Diego Sánchez\n",
       "8       Elena Ramírez\n",
       "9        Pablo Torres\n",
       "Name: Nombres, dtype: object"
      ]
     },
     "execution_count": 18,
     "metadata": {},
     "output_type": "execute_result"
    }
   ],
   "source": [
    "df_empleados['Nombres']"
   ]
  },
  {
   "cell_type": "code",
   "execution_count": 22,
   "id": "e175e98a",
   "metadata": {},
   "outputs": [
    {
     "data": {
      "application/vnd.microsoft.datawrangler.viewer.v0+json": {
       "columns": [
        {
         "name": "index",
         "rawType": "int64",
         "type": "integer"
        },
        {
         "name": "Nombres",
         "rawType": "object",
         "type": "string"
        },
        {
         "name": "edades",
         "rawType": "int64",
         "type": "integer"
        },
        {
         "name": "Salarios",
         "rawType": "float64",
         "type": "float"
        },
        {
         "name": "aumento",
         "rawType": "float64",
         "type": "float"
        }
       ],
       "ref": "96f05c32-8579-417f-9f0a-933d13aa78eb",
       "rows": [
        [
         "0",
         "Ana García",
         "35",
         "55000.75",
         "110001.5"
        ],
        [
         "1",
         "Luis Martínez",
         "28",
         "48000.5",
         "96001.0"
        ],
        [
         "2",
         "Sofía Rodríguez",
         "42",
         "62000.25",
         "124000.5"
        ],
        [
         "3",
         "Carlos Fernández",
         "50",
         "78000.0",
         "156000.0"
        ],
        [
         "4",
         "María López",
         "31",
         "51000.9",
         "102001.8"
        ],
        [
         "5",
         "Pedro González",
         "26",
         "45000.1",
         "90000.2"
        ],
        [
         "6",
         "Laura Pérez",
         "39",
         "59000.8",
         "118001.6"
        ],
        [
         "7",
         "Diego Sánchez",
         "45",
         "72000.4",
         "144000.8"
        ],
        [
         "8",
         "Elena Ramírez",
         "33",
         "53000.6",
         "106001.2"
        ],
        [
         "9",
         "Pablo Torres",
         "29",
         "49000.3",
         "98000.6"
        ]
       ],
       "shape": {
        "columns": 4,
        "rows": 10
       }
      },
      "text/html": [
       "<div>\n",
       "<style scoped>\n",
       "    .dataframe tbody tr th:only-of-type {\n",
       "        vertical-align: middle;\n",
       "    }\n",
       "\n",
       "    .dataframe tbody tr th {\n",
       "        vertical-align: top;\n",
       "    }\n",
       "\n",
       "    .dataframe thead th {\n",
       "        text-align: right;\n",
       "    }\n",
       "</style>\n",
       "<table border=\"1\" class=\"dataframe\">\n",
       "  <thead>\n",
       "    <tr style=\"text-align: right;\">\n",
       "      <th></th>\n",
       "      <th>Nombres</th>\n",
       "      <th>edades</th>\n",
       "      <th>Salarios</th>\n",
       "      <th>aumento</th>\n",
       "    </tr>\n",
       "  </thead>\n",
       "  <tbody>\n",
       "    <tr>\n",
       "      <th>0</th>\n",
       "      <td>Ana García</td>\n",
       "      <td>35</td>\n",
       "      <td>55000.75</td>\n",
       "      <td>110001.5</td>\n",
       "    </tr>\n",
       "    <tr>\n",
       "      <th>1</th>\n",
       "      <td>Luis Martínez</td>\n",
       "      <td>28</td>\n",
       "      <td>48000.50</td>\n",
       "      <td>96001.0</td>\n",
       "    </tr>\n",
       "    <tr>\n",
       "      <th>2</th>\n",
       "      <td>Sofía Rodríguez</td>\n",
       "      <td>42</td>\n",
       "      <td>62000.25</td>\n",
       "      <td>124000.5</td>\n",
       "    </tr>\n",
       "    <tr>\n",
       "      <th>3</th>\n",
       "      <td>Carlos Fernández</td>\n",
       "      <td>50</td>\n",
       "      <td>78000.00</td>\n",
       "      <td>156000.0</td>\n",
       "    </tr>\n",
       "    <tr>\n",
       "      <th>4</th>\n",
       "      <td>María López</td>\n",
       "      <td>31</td>\n",
       "      <td>51000.90</td>\n",
       "      <td>102001.8</td>\n",
       "    </tr>\n",
       "    <tr>\n",
       "      <th>5</th>\n",
       "      <td>Pedro González</td>\n",
       "      <td>26</td>\n",
       "      <td>45000.10</td>\n",
       "      <td>90000.2</td>\n",
       "    </tr>\n",
       "    <tr>\n",
       "      <th>6</th>\n",
       "      <td>Laura Pérez</td>\n",
       "      <td>39</td>\n",
       "      <td>59000.80</td>\n",
       "      <td>118001.6</td>\n",
       "    </tr>\n",
       "    <tr>\n",
       "      <th>7</th>\n",
       "      <td>Diego Sánchez</td>\n",
       "      <td>45</td>\n",
       "      <td>72000.40</td>\n",
       "      <td>144000.8</td>\n",
       "    </tr>\n",
       "    <tr>\n",
       "      <th>8</th>\n",
       "      <td>Elena Ramírez</td>\n",
       "      <td>33</td>\n",
       "      <td>53000.60</td>\n",
       "      <td>106001.2</td>\n",
       "    </tr>\n",
       "    <tr>\n",
       "      <th>9</th>\n",
       "      <td>Pablo Torres</td>\n",
       "      <td>29</td>\n",
       "      <td>49000.30</td>\n",
       "      <td>98000.6</td>\n",
       "    </tr>\n",
       "  </tbody>\n",
       "</table>\n",
       "</div>"
      ],
      "text/plain": [
       "            Nombres  edades  Salarios   aumento\n",
       "0        Ana García      35  55000.75  110001.5\n",
       "1     Luis Martínez      28  48000.50   96001.0\n",
       "2   Sofía Rodríguez      42  62000.25  124000.5\n",
       "3  Carlos Fernández      50  78000.00  156000.0\n",
       "4       María López      31  51000.90  102001.8\n",
       "5    Pedro González      26  45000.10   90000.2\n",
       "6       Laura Pérez      39  59000.80  118001.6\n",
       "7     Diego Sánchez      45  72000.40  144000.8\n",
       "8     Elena Ramírez      33  53000.60  106001.2\n",
       "9      Pablo Torres      29  49000.30   98000.6"
      ]
     },
     "execution_count": 22,
     "metadata": {},
     "output_type": "execute_result"
    }
   ],
   "source": [
    "df_empleados['aumento'] = df_empleados['Salarios'] * 2\n",
    "df_empleados"
   ]
  },
  {
   "cell_type": "code",
   "execution_count": 24,
   "id": "ac2efa58",
   "metadata": {},
   "outputs": [
    {
     "data": {
      "application/vnd.microsoft.datawrangler.viewer.v0+json": {
       "columns": [
        {
         "name": "index",
         "rawType": "int64",
         "type": "integer"
        },
        {
         "name": "Nombres",
         "rawType": "object",
         "type": "string"
        },
        {
         "name": "edades",
         "rawType": "int64",
         "type": "integer"
        },
        {
         "name": "Salarios",
         "rawType": "float64",
         "type": "float"
        },
        {
         "name": "aumento",
         "rawType": "float64",
         "type": "float"
        }
       ],
       "ref": "ab72a08a-b67a-43ba-8874-2bbf722e7f3b",
       "rows": [
        [
         "0",
         "Ana García",
         "35",
         "55000.75",
         "110001.5"
        ],
        [
         "1",
         "Luis Martínez",
         "28",
         "48000.5",
         "96001.0"
        ],
        [
         "2",
         "Sofía Rodríguez",
         "42",
         "62000.25",
         "124000.5"
        ]
       ],
       "shape": {
        "columns": 4,
        "rows": 3
       }
      },
      "text/html": [
       "<div>\n",
       "<style scoped>\n",
       "    .dataframe tbody tr th:only-of-type {\n",
       "        vertical-align: middle;\n",
       "    }\n",
       "\n",
       "    .dataframe tbody tr th {\n",
       "        vertical-align: top;\n",
       "    }\n",
       "\n",
       "    .dataframe thead th {\n",
       "        text-align: right;\n",
       "    }\n",
       "</style>\n",
       "<table border=\"1\" class=\"dataframe\">\n",
       "  <thead>\n",
       "    <tr style=\"text-align: right;\">\n",
       "      <th></th>\n",
       "      <th>Nombres</th>\n",
       "      <th>edades</th>\n",
       "      <th>Salarios</th>\n",
       "      <th>aumento</th>\n",
       "    </tr>\n",
       "  </thead>\n",
       "  <tbody>\n",
       "    <tr>\n",
       "      <th>0</th>\n",
       "      <td>Ana García</td>\n",
       "      <td>35</td>\n",
       "      <td>55000.75</td>\n",
       "      <td>110001.5</td>\n",
       "    </tr>\n",
       "    <tr>\n",
       "      <th>1</th>\n",
       "      <td>Luis Martínez</td>\n",
       "      <td>28</td>\n",
       "      <td>48000.50</td>\n",
       "      <td>96001.0</td>\n",
       "    </tr>\n",
       "    <tr>\n",
       "      <th>2</th>\n",
       "      <td>Sofía Rodríguez</td>\n",
       "      <td>42</td>\n",
       "      <td>62000.25</td>\n",
       "      <td>124000.5</td>\n",
       "    </tr>\n",
       "  </tbody>\n",
       "</table>\n",
       "</div>"
      ],
      "text/plain": [
       "           Nombres  edades  Salarios   aumento\n",
       "0       Ana García      35  55000.75  110001.5\n",
       "1    Luis Martínez      28  48000.50   96001.0\n",
       "2  Sofía Rodríguez      42  62000.25  124000.5"
      ]
     },
     "execution_count": 24,
     "metadata": {},
     "output_type": "execute_result"
    }
   ],
   "source": [
    "df_empleados[0:3]"
   ]
  },
  {
   "cell_type": "code",
   "execution_count": 25,
   "id": "ab86a4e8",
   "metadata": {},
   "outputs": [
    {
     "data": {
      "application/vnd.microsoft.datawrangler.viewer.v0+json": {
       "columns": [
        {
         "name": "index",
         "rawType": "object",
         "type": "string"
        },
        {
         "name": "edades",
         "rawType": "float64",
         "type": "float"
        },
        {
         "name": "Salarios",
         "rawType": "float64",
         "type": "float"
        },
        {
         "name": "aumento",
         "rawType": "float64",
         "type": "float"
        }
       ],
       "ref": "53bec6fd-6ddf-442a-90f4-137aca0f43e9",
       "rows": [
        [
         "count",
         "10.0",
         "10.0",
         "10.0"
        ],
        [
         "mean",
         "35.8",
         "57200.46",
         "114400.92"
        ],
        [
         "std",
         "7.955431408094027",
         "10747.511654275038",
         "21495.023308550077"
        ],
        [
         "min",
         "26.0",
         "45000.1",
         "90000.2"
        ],
        [
         "25%",
         "29.5",
         "49500.450000000004",
         "99000.90000000001"
        ],
        [
         "50%",
         "34.0",
         "54000.675",
         "108001.35"
        ],
        [
         "75%",
         "41.25",
         "61250.3875",
         "122500.775"
        ],
        [
         "max",
         "50.0",
         "78000.0",
         "156000.0"
        ]
       ],
       "shape": {
        "columns": 3,
        "rows": 8
       }
      },
      "text/html": [
       "<div>\n",
       "<style scoped>\n",
       "    .dataframe tbody tr th:only-of-type {\n",
       "        vertical-align: middle;\n",
       "    }\n",
       "\n",
       "    .dataframe tbody tr th {\n",
       "        vertical-align: top;\n",
       "    }\n",
       "\n",
       "    .dataframe thead th {\n",
       "        text-align: right;\n",
       "    }\n",
       "</style>\n",
       "<table border=\"1\" class=\"dataframe\">\n",
       "  <thead>\n",
       "    <tr style=\"text-align: right;\">\n",
       "      <th></th>\n",
       "      <th>edades</th>\n",
       "      <th>Salarios</th>\n",
       "      <th>aumento</th>\n",
       "    </tr>\n",
       "  </thead>\n",
       "  <tbody>\n",
       "    <tr>\n",
       "      <th>count</th>\n",
       "      <td>10.000000</td>\n",
       "      <td>10.000000</td>\n",
       "      <td>10.000000</td>\n",
       "    </tr>\n",
       "    <tr>\n",
       "      <th>mean</th>\n",
       "      <td>35.800000</td>\n",
       "      <td>57200.460000</td>\n",
       "      <td>114400.920000</td>\n",
       "    </tr>\n",
       "    <tr>\n",
       "      <th>std</th>\n",
       "      <td>7.955431</td>\n",
       "      <td>10747.511654</td>\n",
       "      <td>21495.023309</td>\n",
       "    </tr>\n",
       "    <tr>\n",
       "      <th>min</th>\n",
       "      <td>26.000000</td>\n",
       "      <td>45000.100000</td>\n",
       "      <td>90000.200000</td>\n",
       "    </tr>\n",
       "    <tr>\n",
       "      <th>25%</th>\n",
       "      <td>29.500000</td>\n",
       "      <td>49500.450000</td>\n",
       "      <td>99000.900000</td>\n",
       "    </tr>\n",
       "    <tr>\n",
       "      <th>50%</th>\n",
       "      <td>34.000000</td>\n",
       "      <td>54000.675000</td>\n",
       "      <td>108001.350000</td>\n",
       "    </tr>\n",
       "    <tr>\n",
       "      <th>75%</th>\n",
       "      <td>41.250000</td>\n",
       "      <td>61250.387500</td>\n",
       "      <td>122500.775000</td>\n",
       "    </tr>\n",
       "    <tr>\n",
       "      <th>max</th>\n",
       "      <td>50.000000</td>\n",
       "      <td>78000.000000</td>\n",
       "      <td>156000.000000</td>\n",
       "    </tr>\n",
       "  </tbody>\n",
       "</table>\n",
       "</div>"
      ],
      "text/plain": [
       "          edades      Salarios        aumento\n",
       "count  10.000000     10.000000      10.000000\n",
       "mean   35.800000  57200.460000  114400.920000\n",
       "std     7.955431  10747.511654   21495.023309\n",
       "min    26.000000  45000.100000   90000.200000\n",
       "25%    29.500000  49500.450000   99000.900000\n",
       "50%    34.000000  54000.675000  108001.350000\n",
       "75%    41.250000  61250.387500  122500.775000\n",
       "max    50.000000  78000.000000  156000.000000"
      ]
     },
     "execution_count": 25,
     "metadata": {},
     "output_type": "execute_result"
    }
   ],
   "source": [
    "df_empleados.describe()"
   ]
  }
 ],
 "metadata": {
  "kernelspec": {
   "display_name": "Python 3",
   "language": "python",
   "name": "python3"
  },
  "language_info": {
   "codemirror_mode": {
    "name": "ipython",
    "version": 3
   },
   "file_extension": ".py",
   "mimetype": "text/x-python",
   "name": "python",
   "nbconvert_exporter": "python",
   "pygments_lexer": "ipython3",
   "version": "3.10.12"
  }
 },
 "nbformat": 4,
 "nbformat_minor": 5
}
