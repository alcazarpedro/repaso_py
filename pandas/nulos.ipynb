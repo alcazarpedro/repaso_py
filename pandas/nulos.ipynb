{
 "cells": [
  {
   "cell_type": "code",
   "execution_count": 1,
   "id": "6b6334d9",
   "metadata": {},
   "outputs": [],
   "source": [
    "import numpy as np\n",
    "import pandas as pd"
   ]
  },
  {
   "cell_type": "code",
   "execution_count": null,
   "id": "0e2d3c88",
   "metadata": {},
   "outputs": [
    {
     "data": {
      "text/plain": [
       "6"
      ]
     },
     "execution_count": 16,
     "metadata": {},
     "output_type": "execute_result"
    }
   ],
   "source": [
    "\n",
    "serie1 = pd.Series([12,34,np.nan,56,np.nan,67,89,34,90,np.nan,32,np.nan,1,10,35,np.nan,np.nan])\n",
    "serie1.isnull().sum()\n"
   ]
  },
  {
   "cell_type": "code",
   "execution_count": 22,
   "id": "626ea1d9",
   "metadata": {},
   "outputs": [
    {
     "name": "stderr",
     "output_type": "stream",
     "text": [
      "/tmp/ipykernel_1107/1474138561.py:6: FutureWarning: Setting an item of incompatible dtype is deprecated and will raise an error in a future version of pandas. Value 'nan' has dtype incompatible with int64, please explicitly cast to a compatible dtype first.\n",
      "  serie2[serie2 > 50] =  nulo\n"
     ]
    },
    {
     "data": {
      "application/vnd.microsoft.datawrangler.viewer.v0+json": {
       "columns": [
        {
         "name": "index",
         "rawType": "int64",
         "type": "integer"
        },
        {
         "name": "0",
         "rawType": "float64",
         "type": "float"
        }
       ],
       "ref": "7ef90752-0614-4e2c-af42-6d6c762f7f31",
       "rows": [
        [
         "0",
         "34.0"
        ],
        [
         "1",
         "17.0"
        ],
        [
         "2",
         "21.0"
        ],
        [
         "3",
         "32.0"
        ],
        [
         "4",
         "44.0"
        ],
        [
         "5",
         "12.0"
        ],
        [
         "6",
         "17.0"
        ],
        [
         "7",
         "21.0"
        ],
        [
         "8",
         "17.0"
        ],
        [
         "9",
         "28.0"
        ],
        [
         "10",
         "21.0"
        ],
        [
         "11",
         "21.0"
        ],
        [
         "12",
         "21.0"
        ],
        [
         "13",
         "30.0"
        ],
        [
         "14",
         "21.0"
        ]
       ],
       "shape": {
        "columns": 1,
        "rows": 15
       }
      },
      "text/plain": [
       "0     34.0\n",
       "1     17.0\n",
       "2     21.0\n",
       "3     32.0\n",
       "4     44.0\n",
       "5     12.0\n",
       "6     17.0\n",
       "7     21.0\n",
       "8     17.0\n",
       "9     28.0\n",
       "10    21.0\n",
       "11    21.0\n",
       "12    21.0\n",
       "13    30.0\n",
       "14    21.0\n",
       "dtype: float64"
      ]
     },
     "execution_count": 22,
     "metadata": {},
     "output_type": "execute_result"
    }
   ],
   "source": [
    "arreglo = np.random.randint(12,67,15)\n",
    "nulo = np.array(np.nan)\n",
    "\n",
    "\n",
    "serie2 = pd.Series(arreglo)\n",
    "serie2[serie2 > 50] =  nulo\n",
    "serie2\n",
    "\n",
    "serie2.fillna(serie2.median())\n",
    "\n",
    "\n",
    "\n"
   ]
  },
  {
   "cell_type": "code",
   "execution_count": 24,
   "id": "efe48c4d",
   "metadata": {},
   "outputs": [
    {
     "data": {
      "application/vnd.microsoft.datawrangler.viewer.v0+json": {
       "columns": [
        {
         "name": "index",
         "rawType": "int64",
         "type": "integer"
        },
        {
         "name": "0",
         "rawType": "float64",
         "type": "float"
        }
       ],
       "ref": "abae4293-85d8-4781-a5cc-a46201da951a",
       "rows": [
        [
         "0",
         "90.0"
        ],
        [
         "1",
         "67.0"
        ],
        [
         "2",
         "23.0"
        ],
        [
         "3",
         "78.0"
        ],
        [
         "4",
         "89.0"
        ],
        [
         "5",
         "12.0"
        ],
        [
         "6",
         "45.0"
        ],
        [
         "7",
         "67.0"
        ],
        [
         "8",
         "23.0"
        ],
        [
         "10",
         "89.0"
        ],
        [
         "11",
         "54.0"
        ],
        [
         "12",
         "21.0"
        ],
        [
         "13",
         "1.0"
        ],
        [
         "14",
         "7.0"
        ],
        [
         "15",
         "33.0"
        ],
        [
         "16",
         "88.0"
        ],
        [
         "17",
         "9.0"
        ]
       ],
       "shape": {
        "columns": 1,
        "rows": 17
       }
      },
      "text/plain": [
       "0     90.0\n",
       "1     67.0\n",
       "2     23.0\n",
       "3     78.0\n",
       "4     89.0\n",
       "5     12.0\n",
       "6     45.0\n",
       "7     67.0\n",
       "8     23.0\n",
       "10    89.0\n",
       "11    54.0\n",
       "12    21.0\n",
       "13     1.0\n",
       "14     7.0\n",
       "15    33.0\n",
       "16    88.0\n",
       "17     9.0\n",
       "dtype: float64"
      ]
     },
     "execution_count": 24,
     "metadata": {},
     "output_type": "execute_result"
    }
   ],
   "source": [
    "serie3 = pd.Series([90,67,23,78,89,12,45,67,23,np.nan,89,54,21,1,7,33,88,9])\n",
    "serie3\n",
    "\n",
    "serie3.dropna()"
   ]
  },
  {
   "cell_type": "code",
   "execution_count": 32,
   "id": "d53bf2d4",
   "metadata": {},
   "outputs": [
    {
     "name": "stderr",
     "output_type": "stream",
     "text": [
      "/tmp/ipykernel_1107/3427074619.py:5: FutureWarning: Setting an item of incompatible dtype is deprecated and will raise an error in a future version of pandas. Value 'nan' has dtype incompatible with int64, please explicitly cast to a compatible dtype first.\n",
      "  serie4[serie4 >= 55] = nulos\n"
     ]
    },
    {
     "data": {
      "application/vnd.microsoft.datawrangler.viewer.v0+json": {
       "columns": [
        {
         "name": "index",
         "rawType": "int64",
         "type": "integer"
        },
        {
         "name": "0",
         "rawType": "float64",
         "type": "float"
        }
       ],
       "ref": "1e1eacfa-6e00-424f-9311-9e47926c7966",
       "rows": [
        [
         "0",
         "23.0"
        ],
        [
         "1",
         "23.0"
        ],
        [
         "2",
         "23.0"
        ],
        [
         "3",
         "44.0"
        ],
        [
         "4",
         "54.0"
        ],
        [
         "5",
         "23.0"
        ],
        [
         "6",
         "23.0"
        ],
        [
         "7",
         "39.0"
        ],
        [
         "8",
         "23.0"
        ],
        [
         "9",
         "54.0"
        ],
        [
         "10",
         "23.0"
        ],
        [
         "11",
         "38.0"
        ],
        [
         "12",
         "53.0"
        ],
        [
         "13",
         "31.0"
        ],
        [
         "14",
         "41.0"
        ],
        [
         "15",
         "32.0"
        ],
        [
         "16",
         "23.0"
        ],
        [
         "17",
         "48.0"
        ],
        [
         "18",
         "23.0"
        ],
        [
         "19",
         "23.0"
        ]
       ],
       "shape": {
        "columns": 1,
        "rows": 20
       }
      },
      "text/plain": [
       "0     23.0\n",
       "1     23.0\n",
       "2     23.0\n",
       "3     44.0\n",
       "4     54.0\n",
       "5     23.0\n",
       "6     23.0\n",
       "7     39.0\n",
       "8     23.0\n",
       "9     54.0\n",
       "10    23.0\n",
       "11    38.0\n",
       "12    53.0\n",
       "13    31.0\n",
       "14    41.0\n",
       "15    32.0\n",
       "16    23.0\n",
       "17    48.0\n",
       "18    23.0\n",
       "19    23.0\n",
       "dtype: float64"
      ]
     },
     "execution_count": 32,
     "metadata": {},
     "output_type": "execute_result"
    }
   ],
   "source": [
    "alatorios = np.random.randint(23,77,20)\n",
    "nulos = np.array(np.nan)\n",
    "\n",
    "serie4 = pd.Series(alatorios)\n",
    "serie4[serie4 >= 55] = nulos\n",
    "serie4.fillna(23)\n",
    "\n"
   ]
  }
 ],
 "metadata": {
  "kernelspec": {
   "display_name": "Python 3",
   "language": "python",
   "name": "python3"
  },
  "language_info": {
   "codemirror_mode": {
    "name": "ipython",
    "version": 3
   },
   "file_extension": ".py",
   "mimetype": "text/x-python",
   "name": "python",
   "nbconvert_exporter": "python",
   "pygments_lexer": "ipython3",
   "version": "3.10.12"
  }
 },
 "nbformat": 4,
 "nbformat_minor": 5
}
