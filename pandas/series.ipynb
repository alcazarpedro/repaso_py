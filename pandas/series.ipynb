{
 "cells": [
  {
   "cell_type": "code",
   "execution_count": 15,
   "id": "0b7d7751",
   "metadata": {},
   "outputs": [],
   "source": [
    "import pandas as pd\n",
    "import numpy as np"
   ]
  },
  {
   "cell_type": "code",
   "execution_count": 31,
   "id": "b4daa3c3",
   "metadata": {},
   "outputs": [
    {
     "data": {
      "application/vnd.microsoft.datawrangler.viewer.v0+json": {
       "columns": [
        {
         "name": "index",
         "rawType": "int64",
         "type": "integer"
        },
        {
         "name": "0",
         "rawType": "int64",
         "type": "integer"
        }
       ],
       "ref": "e9423e9c-d877-4b60-8637-93224692ff89",
       "rows": [
        [
         "0",
         "10"
        ],
        [
         "1",
         "15"
        ],
        [
         "2",
         "20"
        ],
        [
         "3",
         "25"
        ],
        [
         "4",
         "30"
        ],
        [
         "5",
         "35"
        ],
        [
         "6",
         "40"
        ],
        [
         "7",
         "45"
        ]
       ],
       "shape": {
        "columns": 1,
        "rows": 8
       }
      },
      "text/plain": [
       "0    10\n",
       "1    15\n",
       "2    20\n",
       "3    25\n",
       "4    30\n",
       "5    35\n",
       "6    40\n",
       "7    45\n",
       "dtype: int64"
      ]
     },
     "execution_count": 31,
     "metadata": {},
     "output_type": "execute_result"
    }
   ],
   "source": [
    "rango = list(range(10,50))\n",
    "rango\n",
    "#multiplo5 = [i for i in rango if i % 5 == 0]\n",
    "#multiplo5\n",
    "\n",
    "serie1 = pd.Series([i for i in rango if i % 5 == 0])\n",
    "serie1"
   ]
  },
  {
   "cell_type": "code",
   "execution_count": 14,
   "id": "057167ff",
   "metadata": {},
   "outputs": [
    {
     "data": {
      "application/vnd.microsoft.datawrangler.viewer.v0+json": {
       "columns": [
        {
         "name": "index",
         "rawType": "int64",
         "type": "integer"
        },
        {
         "name": "0",
         "rawType": "object",
         "type": "string"
        }
       ],
       "ref": "d58b4357-6d70-47be-97d7-fb0ea2fda17f",
       "rows": [
        [
         "0",
         "Ana"
        ],
        [
         "1",
         "Luis"
        ],
        [
         "2",
         "Martha"
        ]
       ],
       "shape": {
        "columns": 1,
        "rows": 3
       }
      },
      "text/plain": [
       "0       Ana\n",
       "1      Luis\n",
       "2    Martha\n",
       "dtype: object"
      ]
     },
     "execution_count": 14,
     "metadata": {},
     "output_type": "execute_result"
    }
   ],
   "source": [
    "nombres = ['Ana','Luis','Martha','Pedro']\n",
    "\n",
    "serie2 = pd.Series(nombres)\n",
    "serie2\n",
    "serie2[0:3]"
   ]
  },
  {
   "cell_type": "code",
   "execution_count": 23,
   "id": "d3a4ffad",
   "metadata": {},
   "outputs": [
    {
     "data": {
      "application/vnd.microsoft.datawrangler.viewer.v0+json": {
       "columns": [
        {
         "name": "index",
         "rawType": "object",
         "type": "string"
        },
        {
         "name": "0",
         "rawType": "float64",
         "type": "float"
        }
       ],
       "ref": "98aa83e8-c73e-41b7-b85e-ffabb6596484",
       "rows": [
        [
         "Suma",
         "1000.0"
        ],
        [
         "Media",
         "44.5"
        ],
        [
         "num_Maximo",
         "96.0"
        ]
       ],
       "shape": {
        "columns": 1,
        "rows": 3
       }
      },
      "text/plain": [
       "Suma          1000.0\n",
       "Media           44.5\n",
       "num_Maximo      96.0\n",
       "dtype: float64"
      ]
     },
     "execution_count": 23,
     "metadata": {},
     "output_type": "execute_result"
    }
   ],
   "source": [
    "arreglo = np.random.randint(1,100,20)\n",
    "arreglo\n",
    "\n",
    "elementos = pd.Series(arreglo)\n",
    "suma =  elementos.sum()\n",
    "media = elementos.median()\n",
    "maximo = elementos.max()\n",
    "\n",
    "valores = [suma,media,maximo]\n",
    "resupesta = pd.Series(valores , index= ['Suma','Media','num_Maximo'])\n",
    "resupesta\n",
    "\n"
   ]
  },
  {
   "cell_type": "code",
   "execution_count": 30,
   "id": "35bb6010",
   "metadata": {},
   "outputs": [
    {
     "data": {
      "application/vnd.microsoft.datawrangler.viewer.v0+json": {
       "columns": [
        {
         "name": "index",
         "rawType": "int64",
         "type": "integer"
        },
        {
         "name": "0",
         "rawType": "int64",
         "type": "integer"
        }
       ],
       "ref": "2c044b91-affb-40df-b591-002ba9868013",
       "rows": [
        [
         "0",
         "8"
        ],
        [
         "1",
         "11"
        ],
        [
         "2",
         "30"
        ],
        [
         "3",
         "30"
        ],
        [
         "4",
         "30"
        ],
        [
         "5",
         "5"
        ],
        [
         "6",
         "30"
        ],
        [
         "7",
         "23"
        ],
        [
         "8",
         "30"
        ],
        [
         "9",
         "24"
        ],
        [
         "10",
         "16"
        ],
        [
         "11",
         "13"
        ],
        [
         "12",
         "6"
        ],
        [
         "13",
         "2"
        ],
        [
         "14",
         "17"
        ]
       ],
       "shape": {
        "columns": 1,
        "rows": 15
       }
      },
      "text/plain": [
       "0      8\n",
       "1     11\n",
       "2     30\n",
       "3     30\n",
       "4     30\n",
       "5      5\n",
       "6     30\n",
       "7     23\n",
       "8     30\n",
       "9     24\n",
       "10    16\n",
       "11    13\n",
       "12     6\n",
       "13     2\n",
       "14    17\n",
       "dtype: int64"
      ]
     },
     "execution_count": 30,
     "metadata": {},
     "output_type": "execute_result"
    }
   ],
   "source": [
    "valores = np.random.randint(1,50,15)\n",
    "valores\n",
    "series3 = pd.Series(valores)\n",
    "series3 \n",
    "\n",
    "series3 [series3 > 30] = 30\n",
    "series3\n"
   ]
  }
 ],
 "metadata": {
  "kernelspec": {
   "display_name": "Python 3",
   "language": "python",
   "name": "python3"
  },
  "language_info": {
   "codemirror_mode": {
    "name": "ipython",
    "version": 3
   },
   "file_extension": ".py",
   "mimetype": "text/x-python",
   "name": "python",
   "nbconvert_exporter": "python",
   "pygments_lexer": "ipython3",
   "version": "3.10.12"
  }
 },
 "nbformat": 4,
 "nbformat_minor": 5
}
