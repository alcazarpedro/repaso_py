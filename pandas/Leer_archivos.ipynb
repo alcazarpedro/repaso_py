{
 "cells": [
  {
   "cell_type": "code",
   "execution_count": 1,
   "id": "e1c1aec3",
   "metadata": {},
   "outputs": [],
   "source": [
    "import pandas as pd\n",
    "import numpy as np"
   ]
  },
  {
   "cell_type": "code",
   "execution_count": 15,
   "id": "29cd41ae",
   "metadata": {},
   "outputs": [],
   "source": [
    "df_ventas = pd.read_csv('ventas_python.csv', encoding='latin1')\n"
   ]
  },
  {
   "cell_type": "code",
   "execution_count": 17,
   "id": "2af6bd77",
   "metadata": {},
   "outputs": [
    {
     "data": {
      "application/vnd.microsoft.datawrangler.viewer.v0+json": {
       "columns": [
        {
         "name": "index",
         "rawType": "int64",
         "type": "integer"
        },
        {
         "name": "ID_Venta",
         "rawType": "int64",
         "type": "integer"
        },
        {
         "name": "Fecha",
         "rawType": "object",
         "type": "string"
        },
        {
         "name": "Cliente",
         "rawType": "object",
         "type": "string"
        },
        {
         "name": "Producto",
         "rawType": "object",
         "type": "string"
        },
        {
         "name": "Categoría",
         "rawType": "object",
         "type": "string"
        },
        {
         "name": "Cantidad",
         "rawType": "int64",
         "type": "integer"
        },
        {
         "name": "Precio_Unitario",
         "rawType": "int64",
         "type": "integer"
        },
        {
         "name": "Total",
         "rawType": "int64",
         "type": "integer"
        },
        {
         "name": "Forma_Pago",
         "rawType": "object",
         "type": "string"
        },
        {
         "name": "Empleado",
         "rawType": "object",
         "type": "string"
        }
       ],
       "ref": "9160e4f6-06bd-4265-9725-0b4d9c6df6ff",
       "rows": [
        [
         "0",
         "1",
         "01/06/2025",
         "Juan Pérez",
         "Laptop",
         "Electrónica",
         "1",
         "12000",
         "12000",
         "Tarjeta de crédito",
         "Ana Gómez"
        ],
        [
         "1",
         "2",
         "02/06/2025",
         "Marta Díaz",
         "Audífonos",
         "Electrónica",
         "2",
         "850",
         "1700",
         "Efectivo",
         "Roberto Torres"
        ],
        [
         "2",
         "3",
         "03/06/2025",
         "Luis Méndez",
         "Camiseta",
         "Ropa",
         "3",
         "250",
         "750",
         "Transferencia",
         "Lucía Romero"
        ],
        [
         "3",
         "4",
         "03/06/2025",
         "Carmen Ruiz",
         "Refrigerador",
         "Electrodomésticos",
         "1",
         "9200",
         "9200",
         "Tarjeta de débito",
         "Ana Gómez"
        ],
        [
         "4",
         "5",
         "04/06/2025",
         "Pablo Ortiz",
         "Tenis",
         "Ropa",
         "2",
         "650",
         "1300",
         "Efectivo",
         "Lucía Romero"
        ]
       ],
       "shape": {
        "columns": 10,
        "rows": 5
       }
      },
      "text/html": [
       "<div>\n",
       "<style scoped>\n",
       "    .dataframe tbody tr th:only-of-type {\n",
       "        vertical-align: middle;\n",
       "    }\n",
       "\n",
       "    .dataframe tbody tr th {\n",
       "        vertical-align: top;\n",
       "    }\n",
       "\n",
       "    .dataframe thead th {\n",
       "        text-align: right;\n",
       "    }\n",
       "</style>\n",
       "<table border=\"1\" class=\"dataframe\">\n",
       "  <thead>\n",
       "    <tr style=\"text-align: right;\">\n",
       "      <th></th>\n",
       "      <th>ID_Venta</th>\n",
       "      <th>Fecha</th>\n",
       "      <th>Cliente</th>\n",
       "      <th>Producto</th>\n",
       "      <th>Categoría</th>\n",
       "      <th>Cantidad</th>\n",
       "      <th>Precio_Unitario</th>\n",
       "      <th>Total</th>\n",
       "      <th>Forma_Pago</th>\n",
       "      <th>Empleado</th>\n",
       "    </tr>\n",
       "  </thead>\n",
       "  <tbody>\n",
       "    <tr>\n",
       "      <th>0</th>\n",
       "      <td>1</td>\n",
       "      <td>01/06/2025</td>\n",
       "      <td>Juan Pérez</td>\n",
       "      <td>Laptop</td>\n",
       "      <td>Electrónica</td>\n",
       "      <td>1</td>\n",
       "      <td>12000</td>\n",
       "      <td>12000</td>\n",
       "      <td>Tarjeta de crédito</td>\n",
       "      <td>Ana Gómez</td>\n",
       "    </tr>\n",
       "    <tr>\n",
       "      <th>1</th>\n",
       "      <td>2</td>\n",
       "      <td>02/06/2025</td>\n",
       "      <td>Marta Díaz</td>\n",
       "      <td>Audífonos</td>\n",
       "      <td>Electrónica</td>\n",
       "      <td>2</td>\n",
       "      <td>850</td>\n",
       "      <td>1700</td>\n",
       "      <td>Efectivo</td>\n",
       "      <td>Roberto Torres</td>\n",
       "    </tr>\n",
       "    <tr>\n",
       "      <th>2</th>\n",
       "      <td>3</td>\n",
       "      <td>03/06/2025</td>\n",
       "      <td>Luis Méndez</td>\n",
       "      <td>Camiseta</td>\n",
       "      <td>Ropa</td>\n",
       "      <td>3</td>\n",
       "      <td>250</td>\n",
       "      <td>750</td>\n",
       "      <td>Transferencia</td>\n",
       "      <td>Lucía Romero</td>\n",
       "    </tr>\n",
       "    <tr>\n",
       "      <th>3</th>\n",
       "      <td>4</td>\n",
       "      <td>03/06/2025</td>\n",
       "      <td>Carmen Ruiz</td>\n",
       "      <td>Refrigerador</td>\n",
       "      <td>Electrodomésticos</td>\n",
       "      <td>1</td>\n",
       "      <td>9200</td>\n",
       "      <td>9200</td>\n",
       "      <td>Tarjeta de débito</td>\n",
       "      <td>Ana Gómez</td>\n",
       "    </tr>\n",
       "    <tr>\n",
       "      <th>4</th>\n",
       "      <td>5</td>\n",
       "      <td>04/06/2025</td>\n",
       "      <td>Pablo Ortiz</td>\n",
       "      <td>Tenis</td>\n",
       "      <td>Ropa</td>\n",
       "      <td>2</td>\n",
       "      <td>650</td>\n",
       "      <td>1300</td>\n",
       "      <td>Efectivo</td>\n",
       "      <td>Lucía Romero</td>\n",
       "    </tr>\n",
       "  </tbody>\n",
       "</table>\n",
       "</div>"
      ],
      "text/plain": [
       "   ID_Venta       Fecha      Cliente      Producto          Categoría  \\\n",
       "0         1  01/06/2025   Juan Pérez        Laptop        Electrónica   \n",
       "1         2  02/06/2025   Marta Díaz     Audífonos        Electrónica   \n",
       "2         3  03/06/2025  Luis Méndez      Camiseta               Ropa   \n",
       "3         4  03/06/2025  Carmen Ruiz  Refrigerador  Electrodomésticos   \n",
       "4         5  04/06/2025  Pablo Ortiz         Tenis               Ropa   \n",
       "\n",
       "   Cantidad  Precio_Unitario  Total          Forma_Pago        Empleado  \n",
       "0         1            12000  12000  Tarjeta de crédito       Ana Gómez  \n",
       "1         2              850   1700            Efectivo  Roberto Torres  \n",
       "2         3              250    750       Transferencia    Lucía Romero  \n",
       "3         1             9200   9200   Tarjeta de débito       Ana Gómez  \n",
       "4         2              650   1300            Efectivo    Lucía Romero  "
      ]
     },
     "execution_count": 17,
     "metadata": {},
     "output_type": "execute_result"
    }
   ],
   "source": [
    "df_ventas.head(5)"
   ]
  },
  {
   "cell_type": "code",
   "execution_count": 26,
   "id": "f2c5e7a0",
   "metadata": {},
   "outputs": [
    {
     "data": {
      "application/vnd.microsoft.datawrangler.viewer.v0+json": {
       "columns": [
        {
         "name": "index",
         "rawType": "int64",
         "type": "integer"
        },
        {
         "name": "Producto",
         "rawType": "object",
         "type": "string"
        },
        {
         "name": "Precio_Unitario",
         "rawType": "int64",
         "type": "integer"
        }
       ],
       "ref": "b74729d9-fc30-48ad-a195-678b90d354c8",
       "rows": [
        [
         "0",
         "Laptop",
         "12000"
        ],
        [
         "1",
         "Audífonos",
         "850"
        ],
        [
         "2",
         "Camiseta",
         "250"
        ],
        [
         "3",
         "Refrigerador",
         "9200"
        ],
        [
         "4",
         "Tenis",
         "650"
        ],
        [
         "5",
         "Celular",
         "7800"
        ],
        [
         "6",
         "Licuadora",
         "1200"
        ],
        [
         "7",
         "Jeans",
         "400"
        ],
        [
         "8",
         "Tablet",
         "5400"
        ],
        [
         "9",
         "Zapatos",
         "950"
        ]
       ],
       "shape": {
        "columns": 2,
        "rows": 10
       }
      },
      "text/html": [
       "<div>\n",
       "<style scoped>\n",
       "    .dataframe tbody tr th:only-of-type {\n",
       "        vertical-align: middle;\n",
       "    }\n",
       "\n",
       "    .dataframe tbody tr th {\n",
       "        vertical-align: top;\n",
       "    }\n",
       "\n",
       "    .dataframe thead th {\n",
       "        text-align: right;\n",
       "    }\n",
       "</style>\n",
       "<table border=\"1\" class=\"dataframe\">\n",
       "  <thead>\n",
       "    <tr style=\"text-align: right;\">\n",
       "      <th></th>\n",
       "      <th>Producto</th>\n",
       "      <th>Precio_Unitario</th>\n",
       "    </tr>\n",
       "  </thead>\n",
       "  <tbody>\n",
       "    <tr>\n",
       "      <th>0</th>\n",
       "      <td>Laptop</td>\n",
       "      <td>12000</td>\n",
       "    </tr>\n",
       "    <tr>\n",
       "      <th>1</th>\n",
       "      <td>Audífonos</td>\n",
       "      <td>850</td>\n",
       "    </tr>\n",
       "    <tr>\n",
       "      <th>2</th>\n",
       "      <td>Camiseta</td>\n",
       "      <td>250</td>\n",
       "    </tr>\n",
       "    <tr>\n",
       "      <th>3</th>\n",
       "      <td>Refrigerador</td>\n",
       "      <td>9200</td>\n",
       "    </tr>\n",
       "    <tr>\n",
       "      <th>4</th>\n",
       "      <td>Tenis</td>\n",
       "      <td>650</td>\n",
       "    </tr>\n",
       "    <tr>\n",
       "      <th>5</th>\n",
       "      <td>Celular</td>\n",
       "      <td>7800</td>\n",
       "    </tr>\n",
       "    <tr>\n",
       "      <th>6</th>\n",
       "      <td>Licuadora</td>\n",
       "      <td>1200</td>\n",
       "    </tr>\n",
       "    <tr>\n",
       "      <th>7</th>\n",
       "      <td>Jeans</td>\n",
       "      <td>400</td>\n",
       "    </tr>\n",
       "    <tr>\n",
       "      <th>8</th>\n",
       "      <td>Tablet</td>\n",
       "      <td>5400</td>\n",
       "    </tr>\n",
       "    <tr>\n",
       "      <th>9</th>\n",
       "      <td>Zapatos</td>\n",
       "      <td>950</td>\n",
       "    </tr>\n",
       "  </tbody>\n",
       "</table>\n",
       "</div>"
      ],
      "text/plain": [
       "       Producto  Precio_Unitario\n",
       "0        Laptop            12000\n",
       "1     Audífonos              850\n",
       "2      Camiseta              250\n",
       "3  Refrigerador             9200\n",
       "4         Tenis              650\n",
       "5       Celular             7800\n",
       "6     Licuadora             1200\n",
       "7         Jeans              400\n",
       "8        Tablet             5400\n",
       "9       Zapatos              950"
      ]
     },
     "execution_count": 26,
     "metadata": {},
     "output_type": "execute_result"
    }
   ],
   "source": [
    "df_ventas[['Producto', 'Precio_Unitario']]"
   ]
  },
  {
   "cell_type": "code",
   "execution_count": 31,
   "id": "31817dcb",
   "metadata": {},
   "outputs": [
    {
     "data": {
      "application/vnd.microsoft.datawrangler.viewer.v0+json": {
       "columns": [
        {
         "name": "index",
         "rawType": "int64",
         "type": "integer"
        },
        {
         "name": "ID_Venta",
         "rawType": "int64",
         "type": "integer"
        },
        {
         "name": "Fecha",
         "rawType": "datetime64[ns]",
         "type": "datetime"
        },
        {
         "name": "Cliente",
         "rawType": "object",
         "type": "string"
        },
        {
         "name": "Producto",
         "rawType": "object",
         "type": "string"
        },
        {
         "name": "Categoría",
         "rawType": "object",
         "type": "string"
        },
        {
         "name": "Cantidad",
         "rawType": "int64",
         "type": "integer"
        },
        {
         "name": "Precio_Unitario",
         "rawType": "int64",
         "type": "integer"
        },
        {
         "name": "Total",
         "rawType": "int64",
         "type": "integer"
        },
        {
         "name": "Forma_Pago",
         "rawType": "object",
         "type": "string"
        },
        {
         "name": "Empleado",
         "rawType": "object",
         "type": "string"
        }
       ],
       "ref": "dadb4ea7-cb02-4139-91ba-536b55aa182f",
       "rows": [
        [
         "0",
         "1",
         "2025-01-06 00:00:00",
         "Juan Pérez",
         "Laptop",
         "Electrónica",
         "1",
         "12000",
         "12000",
         "Tarjeta de crédito",
         "Ana Gómez"
        ],
        [
         "1",
         "2",
         "2025-02-06 00:00:00",
         "Marta Díaz",
         "Audífonos",
         "Electrónica",
         "2",
         "850",
         "1700",
         "Efectivo",
         "Roberto Torres"
        ],
        [
         "2",
         "3",
         "2025-03-06 00:00:00",
         "Luis Méndez",
         "Camiseta",
         "Ropa",
         "3",
         "250",
         "750",
         "Transferencia",
         "Lucía Romero"
        ],
        [
         "3",
         "4",
         "2025-03-06 00:00:00",
         "Carmen Ruiz",
         "Refrigerador",
         "Electrodomésticos",
         "1",
         "9200",
         "9200",
         "Tarjeta de débito",
         "Ana Gómez"
        ],
        [
         "4",
         "5",
         "2025-04-06 00:00:00",
         "Pablo Ortiz",
         "Tenis",
         "Ropa",
         "2",
         "650",
         "1300",
         "Efectivo",
         "Lucía Romero"
        ]
       ],
       "shape": {
        "columns": 10,
        "rows": 5
       }
      },
      "text/html": [
       "<div>\n",
       "<style scoped>\n",
       "    .dataframe tbody tr th:only-of-type {\n",
       "        vertical-align: middle;\n",
       "    }\n",
       "\n",
       "    .dataframe tbody tr th {\n",
       "        vertical-align: top;\n",
       "    }\n",
       "\n",
       "    .dataframe thead th {\n",
       "        text-align: right;\n",
       "    }\n",
       "</style>\n",
       "<table border=\"1\" class=\"dataframe\">\n",
       "  <thead>\n",
       "    <tr style=\"text-align: right;\">\n",
       "      <th></th>\n",
       "      <th>ID_Venta</th>\n",
       "      <th>Fecha</th>\n",
       "      <th>Cliente</th>\n",
       "      <th>Producto</th>\n",
       "      <th>Categoría</th>\n",
       "      <th>Cantidad</th>\n",
       "      <th>Precio_Unitario</th>\n",
       "      <th>Total</th>\n",
       "      <th>Forma_Pago</th>\n",
       "      <th>Empleado</th>\n",
       "    </tr>\n",
       "  </thead>\n",
       "  <tbody>\n",
       "    <tr>\n",
       "      <th>0</th>\n",
       "      <td>1</td>\n",
       "      <td>2025-01-06</td>\n",
       "      <td>Juan Pérez</td>\n",
       "      <td>Laptop</td>\n",
       "      <td>Electrónica</td>\n",
       "      <td>1</td>\n",
       "      <td>12000</td>\n",
       "      <td>12000</td>\n",
       "      <td>Tarjeta de crédito</td>\n",
       "      <td>Ana Gómez</td>\n",
       "    </tr>\n",
       "    <tr>\n",
       "      <th>1</th>\n",
       "      <td>2</td>\n",
       "      <td>2025-02-06</td>\n",
       "      <td>Marta Díaz</td>\n",
       "      <td>Audífonos</td>\n",
       "      <td>Electrónica</td>\n",
       "      <td>2</td>\n",
       "      <td>850</td>\n",
       "      <td>1700</td>\n",
       "      <td>Efectivo</td>\n",
       "      <td>Roberto Torres</td>\n",
       "    </tr>\n",
       "    <tr>\n",
       "      <th>2</th>\n",
       "      <td>3</td>\n",
       "      <td>2025-03-06</td>\n",
       "      <td>Luis Méndez</td>\n",
       "      <td>Camiseta</td>\n",
       "      <td>Ropa</td>\n",
       "      <td>3</td>\n",
       "      <td>250</td>\n",
       "      <td>750</td>\n",
       "      <td>Transferencia</td>\n",
       "      <td>Lucía Romero</td>\n",
       "    </tr>\n",
       "    <tr>\n",
       "      <th>3</th>\n",
       "      <td>4</td>\n",
       "      <td>2025-03-06</td>\n",
       "      <td>Carmen Ruiz</td>\n",
       "      <td>Refrigerador</td>\n",
       "      <td>Electrodomésticos</td>\n",
       "      <td>1</td>\n",
       "      <td>9200</td>\n",
       "      <td>9200</td>\n",
       "      <td>Tarjeta de débito</td>\n",
       "      <td>Ana Gómez</td>\n",
       "    </tr>\n",
       "    <tr>\n",
       "      <th>4</th>\n",
       "      <td>5</td>\n",
       "      <td>2025-04-06</td>\n",
       "      <td>Pablo Ortiz</td>\n",
       "      <td>Tenis</td>\n",
       "      <td>Ropa</td>\n",
       "      <td>2</td>\n",
       "      <td>650</td>\n",
       "      <td>1300</td>\n",
       "      <td>Efectivo</td>\n",
       "      <td>Lucía Romero</td>\n",
       "    </tr>\n",
       "  </tbody>\n",
       "</table>\n",
       "</div>"
      ],
      "text/plain": [
       "   ID_Venta      Fecha      Cliente      Producto          Categoría  \\\n",
       "0         1 2025-01-06   Juan Pérez        Laptop        Electrónica   \n",
       "1         2 2025-02-06   Marta Díaz     Audífonos        Electrónica   \n",
       "2         3 2025-03-06  Luis Méndez      Camiseta               Ropa   \n",
       "3         4 2025-03-06  Carmen Ruiz  Refrigerador  Electrodomésticos   \n",
       "4         5 2025-04-06  Pablo Ortiz         Tenis               Ropa   \n",
       "\n",
       "   Cantidad  Precio_Unitario  Total          Forma_Pago        Empleado  \n",
       "0         1            12000  12000  Tarjeta de crédito       Ana Gómez  \n",
       "1         2              850   1700            Efectivo  Roberto Torres  \n",
       "2         3              250    750       Transferencia    Lucía Romero  \n",
       "3         1             9200   9200   Tarjeta de débito       Ana Gómez  \n",
       "4         2              650   1300            Efectivo    Lucía Romero  "
      ]
     },
     "execution_count": 31,
     "metadata": {},
     "output_type": "execute_result"
    }
   ],
   "source": [
    "df_ventas['Fecha'] = pd.to_datetime(df_ventas['Fecha'])\n",
    "\n",
    "df_ventas.head(5)"
   ]
  }
 ],
 "metadata": {
  "kernelspec": {
   "display_name": "Python 3",
   "language": "python",
   "name": "python3"
  },
  "language_info": {
   "codemirror_mode": {
    "name": "ipython",
    "version": 3
   },
   "file_extension": ".py",
   "mimetype": "text/x-python",
   "name": "python",
   "nbconvert_exporter": "python",
   "pygments_lexer": "ipython3",
   "version": "3.10.12"
  }
 },
 "nbformat": 4,
 "nbformat_minor": 5
}
