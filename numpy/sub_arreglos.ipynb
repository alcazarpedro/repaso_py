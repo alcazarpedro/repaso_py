{
 "cells": [
  {
   "cell_type": "code",
   "execution_count": 1,
   "id": "566a8510",
   "metadata": {},
   "outputs": [],
   "source": [
    "import numpy as np"
   ]
  },
  {
   "cell_type": "code",
   "execution_count": null,
   "id": "8b3cf4f5",
   "metadata": {},
   "outputs": [
    {
     "data": {
      "text/plain": [
       "array([ 0,  3,  6,  9, 12, 15, 18])"
      ]
     },
     "execution_count": 7,
     "metadata": {},
     "output_type": "execute_result"
    }
   ],
   "source": [
    "#Sub-arreglos o slicing\n",
    "elementos = np.arange(0,19)\n",
    "elementos\n",
    "\n",
    "sub_mul_tres = np.array([i for i in elementos if i % 3 == 0])\n",
    "sub_mul_tres \n"
   ]
  },
  {
   "cell_type": "code",
   "execution_count": 11,
   "id": "98b1c90b",
   "metadata": {},
   "outputs": [
    {
     "data": {
      "text/plain": [
       "array([[ 1,  2,  3],\n",
       "       [ 6,  7,  8],\n",
       "       [11, 12, 13],\n",
       "       [16, 17, 18],\n",
       "       [21, 22, 23]])"
      ]
     },
     "execution_count": 11,
     "metadata": {},
     "output_type": "execute_result"
    }
   ],
   "source": [
    "matriz = np.arange(0,25).reshape(5,5)\n",
    "matriz\n",
    "\n",
    "sub_mat = matriz[0:,1:4]\n",
    "sub_mat"
   ]
  },
  {
   "cell_type": "code",
   "execution_count": 16,
   "id": "764d1e18",
   "metadata": {},
   "outputs": [
    {
     "data": {
      "text/plain": [
       "array([ 3,  6,  9, 12])"
      ]
     },
     "execution_count": 16,
     "metadata": {},
     "output_type": "execute_result"
    }
   ],
   "source": [
    "matriz_cuatro_cuatro = np.arange(16).reshape(4,4)\n",
    "matriz_cuatro_cuatro\n",
    "\n",
    "filas, columnas = matriz_cuatro_cuatro.shape\n",
    "diagonal_secundaria_indices = np.arange(columnas -1,-1,-1)\n",
    "diagonal_secundaria = matriz_cuatro_cuatro[np.arange(filas),diagonal_secundaria_indices]\n",
    "diagonal_secundaria"
   ]
  },
  {
   "cell_type": "code",
   "execution_count": 18,
   "id": "10f31a22",
   "metadata": {},
   "outputs": [
    {
     "data": {
      "text/plain": [
       "array([ 7,  8,  9, 10, 11])"
      ]
     },
     "execution_count": 18,
     "metadata": {},
     "output_type": "execute_result"
    }
   ],
   "source": [
    "arreglo = np.arange(20)\n",
    "arreglo\n",
    "\n",
    "sub_arreglo = arreglo[7:12]\n",
    "sub_arreglo"
   ]
  }
 ],
 "metadata": {
  "kernelspec": {
   "display_name": "Python 3",
   "language": "python",
   "name": "python3"
  },
  "language_info": {
   "codemirror_mode": {
    "name": "ipython",
    "version": 3
   },
   "file_extension": ".py",
   "mimetype": "text/x-python",
   "name": "python",
   "nbconvert_exporter": "python",
   "pygments_lexer": "ipython3",
   "version": "3.10.12"
  }
 },
 "nbformat": 4,
 "nbformat_minor": 5
}
