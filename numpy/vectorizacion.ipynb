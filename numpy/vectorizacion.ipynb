{
 "cells": [
  {
   "cell_type": "code",
   "execution_count": 1,
   "id": "5061ce99",
   "metadata": {},
   "outputs": [],
   "source": [
    "import numpy as np"
   ]
  },
  {
   "cell_type": "code",
   "execution_count": 2,
   "id": "e1fafc91",
   "metadata": {},
   "outputs": [],
   "source": [
    "# VECTORIZACION\n",
    "def cuadratica(x):\n",
    "    return x**2 + 2*(x) + 1"
   ]
  },
  {
   "cell_type": "code",
   "execution_count": 3,
   "id": "b56db4d3",
   "metadata": {},
   "outputs": [
    {
     "data": {
      "text/plain": [
       "[1, 4, 9, 16, 25, 36, 49, 64, 81]"
      ]
     },
     "execution_count": 3,
     "metadata": {},
     "output_type": "execute_result"
    }
   ],
   "source": [
    "\n",
    "vector = np.arange(0,9)\n",
    "\n",
    "vectorizacion = [cuadratica(i) for i in vector]\n",
    "vectorizacion\n",
    "\n",
    "\n"
   ]
  },
  {
   "cell_type": "code",
   "execution_count": 6,
   "id": "10f4821f",
   "metadata": {},
   "outputs": [],
   "source": [
    "def absoluto(x):\n",
    "    if x >= 0 :\n",
    "        return x\n",
    "    elif x < 0 :\n",
    "        return -x\n",
    "            \n",
    "\n",
    "   \n"
   ]
  },
  {
   "cell_type": "code",
   "execution_count": 9,
   "id": "33b591d6",
   "metadata": {},
   "outputs": [
    {
     "data": {
      "text/plain": [
       "[5, 4, 3, 2, 1, 0, 1, 2, 3]"
      ]
     },
     "execution_count": 9,
     "metadata": {},
     "output_type": "execute_result"
    }
   ],
   "source": [
    "valores_vect = np.arange(-5,4)\n",
    "\n",
    "vector_absoluto = [absoluto(i) for i in valores_vect]\n",
    "vector_absoluto\n"
   ]
  },
  {
   "cell_type": "code",
   "execution_count": 10,
   "id": "a4c13d43",
   "metadata": {},
   "outputs": [],
   "source": [
    "def par_impar(variable):\n",
    "    if variable % 2 == 0:\n",
    "        return 1\n",
    "    else :\n",
    "        return 0    "
   ]
  },
  {
   "cell_type": "code",
   "execution_count": 11,
   "id": "9fed5ee2",
   "metadata": {},
   "outputs": [
    {
     "data": {
      "text/plain": [
       "[1, 0, 1, 0, 1, 0, 1, 0, 1, 0, 1, 0, 1]"
      ]
     },
     "execution_count": 11,
     "metadata": {},
     "output_type": "execute_result"
    }
   ],
   "source": [
    "numeros = np.arange(13)\n",
    "\n",
    "vector_par_impar = [par_impar(elemento) for elemento in numeros]\n",
    "vector_par_impar\n"
   ]
  },
  {
   "cell_type": "code",
   "execution_count": 12,
   "id": "f72da554",
   "metadata": {},
   "outputs": [
    {
     "data": {
      "text/plain": [
       "array([  0,   2,   8,  18,  32,  50,  72,  98, 128, 162, 200])"
      ]
     },
     "execution_count": 12,
     "metadata": {},
     "output_type": "execute_result"
    }
   ],
   "source": [
    "x = np.arange(11)\n",
    "y= np.arange(11)\n",
    "\n",
    "vector_x_y = x**2 + y**2\n",
    "vector_x_y"
   ]
  }
 ],
 "metadata": {
  "kernelspec": {
   "display_name": "Python 3",
   "language": "python",
   "name": "python3"
  },
  "language_info": {
   "codemirror_mode": {
    "name": "ipython",
    "version": 3
   },
   "file_extension": ".py",
   "mimetype": "text/x-python",
   "name": "python",
   "nbconvert_exporter": "python",
   "pygments_lexer": "ipython3",
   "version": "3.10.12"
  }
 },
 "nbformat": 4,
 "nbformat_minor": 5
}
