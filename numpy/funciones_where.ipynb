{
 "cells": [
  {
   "cell_type": "code",
   "execution_count": 1,
   "id": "250c395c",
   "metadata": {},
   "outputs": [],
   "source": [
    "import numpy as np"
   ]
  },
  {
   "cell_type": "code",
   "execution_count": 5,
   "id": "8c8deb98",
   "metadata": {},
   "outputs": [
    {
     "data": {
      "text/plain": [
       "(array([ 0,  1,  3,  4,  5,  7,  8, 11, 12, 15, 18]),)"
      ]
     },
     "execution_count": 5,
     "metadata": {},
     "output_type": "execute_result"
    }
   ],
   "source": [
    "#Where \n",
    "\n",
    "aleatorios = np.random.rand(20)\n",
    "aleatorios\n",
    "\n",
    "mayores05 = np.where(aleatorios > 0.5)\n",
    "mayores05"
   ]
  },
  {
   "cell_type": "code",
   "execution_count": 7,
   "id": "60952345",
   "metadata": {},
   "outputs": [
    {
     "data": {
      "text/plain": [
       "array([ 0,  0,  1,  7,  1,  1, 19, 17,  0, 17])"
      ]
     },
     "execution_count": 7,
     "metadata": {},
     "output_type": "execute_result"
    }
   ],
   "source": [
    "numeros = np.random.randint(0,20,10)\n",
    "numeros\n",
    "\n",
    "numeros_par = np.where(numeros % 2 == 0,0,numeros)\n",
    "numeros_par"
   ]
  },
  {
   "cell_type": "code",
   "execution_count": 8,
   "id": "ca122aca",
   "metadata": {},
   "outputs": [
    {
     "data": {
      "text/plain": [
       "array([ 7, 19, 15, 17, 13, 18,  6, 12, 17, 13])"
      ]
     },
     "execution_count": 8,
     "metadata": {},
     "output_type": "execute_result"
    }
   ],
   "source": [
    "arr1 = np.random.randint(0,20,10)\n",
    "arr2 = np.random.randint(0,20,10)\n",
    "\n",
    "valor_a_b = np.where(arr1 > arr2,arr1,arr2)\n",
    "valor_a_b"
   ]
  },
  {
   "cell_type": "code",
   "execution_count": 15,
   "id": "93638265",
   "metadata": {},
   "outputs": [
    {
     "data": {
      "text/plain": [
       "array([10,  9,  8,  7,  6,  5,  4,  3,  2,  1,  0,  1,  2,  3,  4,  5,  6,\n",
       "        7,  8,  9, 10])"
      ]
     },
     "execution_count": 15,
     "metadata": {},
     "output_type": "execute_result"
    }
   ],
   "source": [
    "numeros_rad = np.arange(-10,11)\n",
    "numeros_rad\n",
    "\n",
    "absoluto = np.where(numeros_rad < 0 ,abs(numeros_rad),numeros_rad)\n",
    "absoluto"
   ]
  }
 ],
 "metadata": {
  "kernelspec": {
   "display_name": "Python 3",
   "language": "python",
   "name": "python3"
  },
  "language_info": {
   "codemirror_mode": {
    "name": "ipython",
    "version": 3
   },
   "file_extension": ".py",
   "mimetype": "text/x-python",
   "name": "python",
   "nbconvert_exporter": "python",
   "pygments_lexer": "ipython3",
   "version": "3.10.12"
  }
 },
 "nbformat": 4,
 "nbformat_minor": 5
}
