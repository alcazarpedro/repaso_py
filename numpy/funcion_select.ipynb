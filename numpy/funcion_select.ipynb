{
 "cells": [
  {
   "cell_type": "code",
   "execution_count": 1,
   "id": "c5107228",
   "metadata": {},
   "outputs": [],
   "source": [
    "import numpy as np"
   ]
  },
  {
   "cell_type": "code",
   "execution_count": 3,
   "id": "c3bc8aa8",
   "metadata": {},
   "outputs": [
    {
     "data": {
      "text/plain": [
       "array(['Menorque5', 'Menorque5', 'Menorque5', 'Menorque5', 'Menorque5',\n",
       "       'entre5y10', 'entre5y10', 'entre5y10', 'entre5y10', 'entre5y10',\n",
       "       'entre5y10', 'Mayorque10', 'Mayorque10', 'Mayorque10',\n",
       "       'Mayorque10', 'Mayorque10'], dtype='<U10')"
      ]
     },
     "execution_count": 3,
     "metadata": {},
     "output_type": "execute_result"
    }
   ],
   "source": [
    "arr = np.arange(0,16)\n",
    "arr\n",
    "condicion = [\n",
    "    arr < 5,\n",
    "    (arr >= 5 ) & (arr <=  10),\n",
    "    arr > 10\n",
    "]\n",
    "repuestas = ['Menorque5','entre5y10','Mayorque10']\n",
    "clasificacion = np.select(condicion,repuestas)\n",
    "clasificacion"
   ]
  },
  {
   "cell_type": "code",
   "execution_count": 5,
   "id": "98f555df",
   "metadata": {},
   "outputs": [
    {
     "data": {
      "text/plain": [
       "array([0, 1, 1, 2, 1, 1, 0, 1, 1, 1, 0, 2, 2, 1, 0])"
      ]
     },
     "execution_count": 5,
     "metadata": {},
     "output_type": "execute_result"
    }
   ],
   "source": [
    "aleatroios = np.random.rand(15)\n",
    "aleatroios\n",
    "\n",
    "condicional = [\n",
    "    aleatroios < 0.3,\n",
    "    (aleatroios >= 0.3) & (aleatroios <=0.7),\n",
    "    aleatroios > 0.7\n",
    "]\n",
    "choice = [0,1,2]\n",
    "remplazo = np.select(condicional,choice)\n",
    "remplazo"
   ]
  },
  {
   "cell_type": "code",
   "execution_count": 10,
   "id": "ae85b6a2",
   "metadata": {},
   "outputs": [
    {
     "data": {
      "text/plain": [
       "array(['bajo', 'bajo', 'bajo', 'bajo', 'bajo', 'bajo', 'bajo', 'bajo',\n",
       "       'bajo', 'bajo', 'bajo', 'bajo', 'bajo', 'bajo', 'bajo', 'bajo',\n",
       "       'bajo', 'bajo', 'bajo', 'bajo', 'bajo', 'bajo', 'bajo', 'bajo',\n",
       "       'bajo', 'medio', 'medio', 'medio', 'medio', 'medio', 'medio',\n",
       "       'medio', 'medio', 'medio', 'medio', 'medio', 'medio', 'medio',\n",
       "       'medio', 'medio', 'alto', 'alto', 'alto', 'alto', 'alto', 'alto',\n",
       "       'alto', 'alto', 'alto', 'alto', 'alto'], dtype='<U5')"
      ]
     },
     "execution_count": 10,
     "metadata": {},
     "output_type": "execute_result"
    }
   ],
   "source": [
    "rango = np.arange(0,51)\n",
    "rango\n",
    "condic = [\n",
    "    rango < 25,\n",
    "    rango < 40,\n",
    "    rango >= 40\n",
    "]\n",
    "\n",
    "choice = ['bajo','medio','alto']\n",
    "output = np.select(condic,choice )\n",
    "output"
   ]
  },
  {
   "cell_type": "code",
   "execution_count": 11,
   "id": "316a10ab",
   "metadata": {},
   "outputs": [
    {
     "data": {
      "text/plain": [
       "array(['negativo', 'negativo', 'negativo', 'negativo', 'negativo',\n",
       "       'negativo', 'negativo', 'negativo', 'negativo', 'negativo', 'cero',\n",
       "       'positivo ', 'positivo ', 'positivo ', 'positivo ', 'positivo ',\n",
       "       'positivo ', 'positivo ', 'positivo ', 'positivo ', 'positivo '],\n",
       "      dtype='<U9')"
      ]
     },
     "execution_count": 11,
     "metadata": {},
     "output_type": "execute_result"
    }
   ],
   "source": [
    "dimension = np.arange(-10,11)\n",
    "\n",
    "condic = [\n",
    "    dimension < 0,\n",
    "    dimension == 0,\n",
    "    dimension > 0\n",
    "\n",
    "]\n",
    "\n",
    "respues = ['negativo','cero','positivo ']\n",
    "\n",
    "salida = np.select(condic,respues)\n",
    "salida"
   ]
  }
 ],
 "metadata": {
  "kernelspec": {
   "display_name": "Python 3",
   "language": "python",
   "name": "python3"
  },
  "language_info": {
   "codemirror_mode": {
    "name": "ipython",
    "version": 3
   },
   "file_extension": ".py",
   "mimetype": "text/x-python",
   "name": "python",
   "nbconvert_exporter": "python",
   "pygments_lexer": "ipython3",
   "version": "3.10.12"
  }
 },
 "nbformat": 4,
 "nbformat_minor": 5
}
