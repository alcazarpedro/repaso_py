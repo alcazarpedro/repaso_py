{
 "cells": [
  {
   "cell_type": "code",
   "execution_count": 1,
   "id": "95ea6935",
   "metadata": {},
   "outputs": [],
   "source": [
    "\n",
    "import numpy as np\n"
   ]
  },
  {
   "cell_type": "code",
   "execution_count": null,
   "id": "fcc04a0b",
   "metadata": {},
   "outputs": [
    {
     "data": {
      "text/plain": [
       "array([[ 0,  1,  2,  3,  4,  5],\n",
       "       [ 6,  7,  8,  9, 10, 11],\n",
       "       [12, 13, 14, 15, 16, 17],\n",
       "       [18, 19, 20, 21, 22, 23],\n",
       "       [24, 25, 26, 27, 28, 29],\n",
       "       [30, 31, 32, 33, 34, 35]])"
      ]
     },
     "execution_count": 2,
     "metadata": {},
     "output_type": "execute_result"
    }
   ],
   "source": [
    "#Matrices \n",
    "#Identidad\n",
    "matris6x6 = np.arange(36).reshape(6,6)\n",
    "matris6x6"
   ]
  },
  {
   "cell_type": "code",
   "execution_count": 14,
   "id": "8946cd39",
   "metadata": {},
   "outputs": [
    {
     "data": {
      "text/plain": [
       "array([[0.72918719, 0.59289411, 0.05541864, 0.9843736 ],\n",
       "       [0.96120169, 0.17989412, 0.52397729, 0.46910278],\n",
       "       [0.69426764, 0.23086987, 0.14845349, 0.58990777],\n",
       "       [0.3257347 , 0.09053306, 0.06248217, 0.65773918],\n",
       "       [0.02050975, 0.6861898 , 0.23403574, 0.31015975]])"
      ]
     },
     "execution_count": 14,
     "metadata": {},
     "output_type": "execute_result"
    }
   ],
   "source": [
    "#Tranpuesta \n",
    "matris4x5 = np.random.rand(20).reshape(4,5)\n",
    "matris4x5.T"
   ]
  },
  {
   "cell_type": "code",
   "execution_count": 23,
   "id": "1cad581d",
   "metadata": {},
   "outputs": [
    {
     "name": "stdout",
     "output_type": "stream",
     "text": [
      "matris uno :\n",
      " [[1 8 9]\n",
      " [4 9 7]\n",
      " [8 6 5]]\n",
      " matris dos:\n",
      " [[2 4 6]\n",
      " [5 5 1]\n",
      " [3 1 4]] \n",
      " suma de las dos matrices es : \n",
      " [[ 3 12 15]\n",
      " [ 9 14  8]\n",
      " [11  7  9]]\n"
     ]
    }
   ],
   "source": [
    "#Suma \n",
    "matris_one = np.random.randint(1,10,9).reshape(3,3)\n",
    "matris_one\n",
    "matris_two = np.random.randint(1,10,9).reshape(3,3)\n",
    "matris_two\n",
    "\n",
    "#print(f'matris uno :\\n {matris_one}\\n matris dos:\\n {matris_two}')\n",
    "\n",
    "suma = matris_one + matris_two\n",
    "suma\n",
    "\n",
    "print(f'matris uno :\\n {matris_one}\\n matris dos:\\n {matris_two} \\n suma de las dos matrices es : \\n {suma}')\n"
   ]
  },
  {
   "cell_type": "code",
   "execution_count": 31,
   "id": "6f771c1f",
   "metadata": {},
   "outputs": [
    {
     "name": "stdout",
     "output_type": "stream",
     "text": [
      "matris uno :\n",
      " [[ 5  6  7  8]\n",
      " [ 9 10 11 12]]\n",
      " matris dos:\n",
      " [[ 2  3  4]\n",
      " [ 5  6  7]\n",
      " [ 8  9 10]\n",
      " [11 12 13]] \n",
      " producto de las dos matrices es : \n",
      " [[184 210 236]\n",
      " [288 330 372]]\n"
     ]
    }
   ],
   "source": [
    "#Multiplicacion\n",
    "\n",
    "matris2x4 = np.arange(5,13).reshape(2,4)\n",
    "matris2x4\n",
    "\n",
    "matris4X3 = np.arange(2,14).reshape(4,3)\n",
    "matris4X3\n",
    "\n",
    "producto = matris2x4 @ matris4X3\n",
    "producto\n",
    "\n",
    "print(f'matris uno :\\n {matris2x4}\\n matris dos:\\n {matris4X3} \\n producto de las dos matrices es : \\n {producto}')"
   ]
  }
 ],
 "metadata": {
  "kernelspec": {
   "display_name": "Python 3",
   "language": "python",
   "name": "python3"
  },
  "language_info": {
   "codemirror_mode": {
    "name": "ipython",
    "version": 3
   },
   "file_extension": ".py",
   "mimetype": "text/x-python",
   "name": "python",
   "nbconvert_exporter": "python",
   "pygments_lexer": "ipython3",
   "version": "3.10.12"
  }
 },
 "nbformat": 4,
 "nbformat_minor": 5
}
