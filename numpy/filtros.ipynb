{
 "cells": [
  {
   "cell_type": "code",
   "execution_count": 1,
   "id": "6ea13519",
   "metadata": {},
   "outputs": [],
   "source": [
    "import numpy as np"
   ]
  },
  {
   "cell_type": "code",
   "execution_count": 5,
   "id": "b1608097",
   "metadata": {},
   "outputs": [
    {
     "data": {
      "text/plain": [
       "array([ 0,  7, 14, 21, 28, 35, 42, 49, 56, 63, 70, 77, 84, 91, 98])"
      ]
     },
     "execution_count": 5,
     "metadata": {},
     "output_type": "execute_result"
    }
   ],
   "source": [
    "#Filtros \n",
    "arr = np.arange(0,100)\n",
    "arr = arr[arr % 7 == 0]\n",
    "arr"
   ]
  },
  {
   "cell_type": "code",
   "execution_count": 9,
   "id": "ffd65e82",
   "metadata": {},
   "outputs": [
    {
     "data": {
      "text/plain": [
       "array([0.79022808, 0.81090791, 0.77197704, 0.89731844, 0.78266984,\n",
       "       0.55353869, 0.70092374])"
      ]
     },
     "execution_count": 9,
     "metadata": {},
     "output_type": "execute_result"
    }
   ],
   "source": [
    "matris4x4 = np.random.rand(16).reshape(4,4)\n",
    "matris4x4\n",
    "filtro = matris4x4 > 0.5\n",
    "resultado= matris4x4[filtro]\n",
    "resultado"
   ]
  },
  {
   "cell_type": "code",
   "execution_count": 12,
   "id": "94a42365",
   "metadata": {},
   "outputs": [
    {
     "data": {
      "text/plain": [
       "array([-10,  -9,  -8,  -7,  -6,  -5,  -4,  -3,  -2,  -1])"
      ]
     },
     "execution_count": 12,
     "metadata": {},
     "output_type": "execute_result"
    }
   ],
   "source": [
    "elementos = np.arange(-10,10)\n",
    "elementos = elementos[elementos < 0]\n",
    "elementos"
   ]
  },
  {
   "cell_type": "code",
   "execution_count": 14,
   "id": "5f3ab9ec",
   "metadata": {},
   "outputs": [
    {
     "data": {
      "text/plain": [
       "array([46,  4, 44,  0,  4, 16, 40, 12, 12, 42, 46, 44, 36])"
      ]
     },
     "execution_count": 14,
     "metadata": {},
     "output_type": "execute_result"
    }
   ],
   "source": [
    "matris5x5 = np.random.randint(0,50,25).reshape(5,5)\n",
    "matris5x5 = matris5x5[matris5x5 % 2 == 0]\n",
    "matris5x5 "
   ]
  }
 ],
 "metadata": {
  "kernelspec": {
   "display_name": "Python 3",
   "language": "python",
   "name": "python3"
  },
  "language_info": {
   "codemirror_mode": {
    "name": "ipython",
    "version": 3
   },
   "file_extension": ".py",
   "mimetype": "text/x-python",
   "name": "python",
   "nbconvert_exporter": "python",
   "pygments_lexer": "ipython3",
   "version": "3.10.12"
  }
 },
 "nbformat": 4,
 "nbformat_minor": 5
}
