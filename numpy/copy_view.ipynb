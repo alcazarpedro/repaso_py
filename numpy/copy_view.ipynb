{
 "cells": [
  {
   "cell_type": "code",
   "execution_count": 1,
   "id": "b8c1670f",
   "metadata": {},
   "outputs": [],
   "source": [
    "import numpy as np"
   ]
  },
  {
   "cell_type": "code",
   "execution_count": 5,
   "id": "779c8c6d",
   "metadata": {},
   "outputs": [
    {
     "data": {
      "text/plain": [
       "array([12, 13, 14, 15, 16,  5,  6,  7,  8,  9])"
      ]
     },
     "execution_count": 5,
     "metadata": {},
     "output_type": "execute_result"
    }
   ],
   "source": [
    "#vistas\n",
    "\n",
    "arreglo = np.arange(10)\n",
    "arreglo\n",
    "\n",
    "view_arrgl = arreglo[0:]\n",
    "view_arrgl[0:5] = [12,13,14,15,16]\n",
    "\n",
    "arreglo"
   ]
  },
  {
   "cell_type": "code",
   "execution_count": 23,
   "id": "03e5162d",
   "metadata": {},
   "outputs": [
    {
     "name": "stdout",
     "output_type": "stream",
     "text": [
      " arreglo original: [3 4 5 6 7 8 9] \n",
      " copia del arreglo ya modificado : [ 3  6  9 12 15 18 21]\n"
     ]
    }
   ],
   "source": [
    "#Copia\n",
    "\n",
    "elementos = np.arange(3,10)\n",
    "elementos\n",
    "\n",
    "copia_array = elementos.copy()\n",
    "copia_array\n",
    "copia_array[1:] = [6,9,12,15,18,21]\n",
    "copia_array\n",
    "\n",
    "print(f' arreglo original: {elementos} \\n copia del arreglo ya modificado : {copia_array}')"
   ]
  }
 ],
 "metadata": {
  "kernelspec": {
   "display_name": "Python 3",
   "language": "python",
   "name": "python3"
  },
  "language_info": {
   "codemirror_mode": {
    "name": "ipython",
    "version": 3
   },
   "file_extension": ".py",
   "mimetype": "text/x-python",
   "name": "python",
   "nbconvert_exporter": "python",
   "pygments_lexer": "ipython3",
   "version": "3.10.12"
  }
 },
 "nbformat": 4,
 "nbformat_minor": 5
}
