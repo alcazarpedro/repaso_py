{
 "cells": [
  {
   "cell_type": "code",
   "execution_count": 1,
   "id": "b8c1670f",
   "metadata": {},
   "outputs": [],
   "source": [
    "import numpy as np"
   ]
  },
  {
   "cell_type": "code",
   "execution_count": 5,
   "id": "779c8c6d",
   "metadata": {},
   "outputs": [
    {
     "data": {
      "text/plain": [
       "array([12, 13, 14, 15, 16,  5,  6,  7,  8,  9])"
      ]
     },
     "execution_count": 5,
     "metadata": {},
     "output_type": "execute_result"
    }
   ],
   "source": [
    "#vistas\n",
    "\n",
    "arreglo = np.arange(10)\n",
    "arreglo\n",
    "\n",
    "view_arrgl = arreglo[0:]\n",
    "view_arrgl[0:5] = [12,13,14,15,16]\n",
    "\n",
    "arreglo"
   ]
  },
  {
   "cell_type": "code",
   "execution_count": 23,
   "id": "03e5162d",
   "metadata": {},
   "outputs": [
    {
     "name": "stdout",
     "output_type": "stream",
     "text": [
      " arreglo original: [3 4 5 6 7 8 9] \n",
      " copia del arreglo ya modificado : [ 3  6  9 12 15 18 21]\n"
     ]
    }
   ],
   "source": [
    "#Copia\n",
    "\n",
    "elementos = np.arange(3,10)\n",
    "elementos\n",
    "\n",
    "copia_array = elementos.copy()\n",
    "copia_array\n",
    "copia_array[1:] = [6,9,12,15,18,21]\n",
    "copia_array\n",
    "\n",
    "print(f' arreglo original: {elementos} \\n copia del arreglo ya modificado : {copia_array}')"
   ]
  },
  {
   "cell_type": "code",
   "execution_count": 22,
   "id": "e2a35181",
   "metadata": {},
   "outputs": [
    {
     "data": {
      "text/plain": [
       "array([[ 0, 12,  2],\n",
       "       [ 3, 15,  5],\n",
       "       [ 6, 18,  8]])"
      ]
     },
     "execution_count": 22,
     "metadata": {},
     "output_type": "execute_result"
    }
   ],
   "source": [
    "matris3x3 = np.arange(0,9).reshape(3,3)\n",
    "matris3x3\n",
    "\n",
    "sub_matris = matris3x3[:, 1]\n",
    "sub_matris[:] = [12,15,18]\n",
    "sub_matris\n",
    "\n",
    "matris3x3\n",
    "\n",
    "\n",
    "\n",
    "\n",
    "\n"
   ]
  },
  {
   "cell_type": "code",
   "execution_count": 36,
   "id": "7f93b2a0",
   "metadata": {},
   "outputs": [
    {
     "data": {
      "text/plain": [
       "array([[ 1,  2,  3,  4,  5,  6],\n",
       "       [ 7,  8,  9, 10, 11, 12],\n",
       "       [13, 14, 15, 16, 17, 18],\n",
       "       [19, 20, 21, 22, 23, 24],\n",
       "       [25, 26, 27, 28, 29, 30]])"
      ]
     },
     "execution_count": 36,
     "metadata": {},
     "output_type": "execute_result"
    }
   ],
   "source": [
    "matris5x6 = np.arange(1,31).reshape(5,6)\n",
    "matris5x6 \n",
    "sub_matx = matris5x6[:,3]\n",
    "sub_matx = sub_matx.copy()\n",
    "\n",
    "sub_matx[1:] = [8,12,16,24]\n",
    "\n",
    "matris5x6\n",
    "\n"
   ]
  }
 ],
 "metadata": {
  "kernelspec": {
   "display_name": "Python 3",
   "language": "python",
   "name": "python3"
  },
  "language_info": {
   "codemirror_mode": {
    "name": "ipython",
    "version": 3
   },
   "file_extension": ".py",
   "mimetype": "text/x-python",
   "name": "python",
   "nbconvert_exporter": "python",
   "pygments_lexer": "ipython3",
   "version": "3.10.12"
  }
 },
 "nbformat": 4,
 "nbformat_minor": 5
}
