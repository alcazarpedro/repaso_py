{
 "cells": [
  {
   "cell_type": "code",
   "execution_count": 1,
   "id": "01590286",
   "metadata": {},
   "outputs": [],
   "source": [
    "import numpy as np"
   ]
  },
  {
   "cell_type": "code",
   "execution_count": null,
   "id": "09925180",
   "metadata": {},
   "outputs": [
    {
     "name": "stdout",
     "output_type": "stream",
     "text": [
      "la matris sumada es  \n",
      " [[44 29 32 48  5]\n",
      " [12 19  4  9 36]\n",
      " [14 22 49 26  3]\n",
      " [ 3 19 31 26  9]\n",
      " [19 30 34 32 15]] \n",
      " la suma es : 570\n"
     ]
    }
   ],
   "source": [
    "#Metodos de agregacion\n",
    "# suma \n",
    "matris5x5 = np.random.randint(0,50,25).reshape(5,5)\n",
    "matris5x5\n",
    "suma = np.sum(matris5x5)\n",
    "print(f'la matris sumada es  \\n {matris5x5} \\n la suma es : {suma}')"
   ]
  },
  {
   "cell_type": "code",
   "execution_count": 6,
   "id": "0129492e",
   "metadata": {},
   "outputs": [
    {
     "name": "stdout",
     "output_type": "stream",
     "text": [
      "el arreglo es [47 46 29 21 27 22 21 14 28 25 11 24 34 12 11  7 45 10 21  7] \n",
      " el valor maximo es : 47 \n",
      " valor minimo es : 7\n"
     ]
    }
   ],
   "source": [
    "#Maximo & Minimo\n",
    "\n",
    "valores = np.random.randint(0,50,20)\n",
    "valores\n",
    "valor_max = np.max(valores)\n",
    "valor_min = np.min(valores)\n",
    "\n",
    "print(f'el arreglo es {valores} \\n el valor maximo es : {valor_max} \\n valor minimo es : {valor_min}')"
   ]
  },
  {
   "cell_type": "code",
   "execution_count": 8,
   "id": "83b9e378",
   "metadata": {},
   "outputs": [
    {
     "name": "stdout",
     "output_type": "stream",
     "text": [
      "matris usada es : \n",
      " [[17 12 14 31]\n",
      " [13  5 25 39]\n",
      " [11 39  2 37]\n",
      " [12 18 16  8]\n",
      " [ 6 36 17 11]\n",
      " [34 16 30  4]] \n",
      " la mediana es : 16.0 \n",
      " la desviasion estandar  es : 11.64156525844642\n"
     ]
    }
   ],
   "source": [
    "# Mediana & desviasion estandar \n",
    "\n",
    "matris6x4 = np.random.randint(2,40,24).reshape(6,4)\n",
    "matris6x4\n",
    "mediana = np.median(matris6x4)\n",
    "desviasion = np.std(matris6x4)\n",
    "\n",
    "print(f'matris usada es : \\n {matris6x4} \\n la mediana es : {mediana} \\n la desviasion estandar  es : {desviasion}')"
   ]
  },
  {
   "cell_type": "code",
   "execution_count": 10,
   "id": "49bda191",
   "metadata": {},
   "outputs": [
    {
     "name": "stdout",
     "output_type": "stream",
     "text": [
      "la matris usada es: \n",
      " [[28  2 23 25]\n",
      " [ 6 16 10 25]\n",
      " [22 28 12 21]\n",
      " [27 25 12 17]] \n",
      " suma de columnas es: [83 71 57 88] \n",
      " suma de filas es: [78 57 83 81]\n"
     ]
    }
   ],
   "source": [
    "#Suma del eje = 0(colum) y eje = 1(file)\n",
    "\n",
    "matris4x4 = np.random.randint(2,30,16).reshape(4,4)\n",
    "matris4x4\n",
    "suma_colum = np.sum(matris4x4 , axis=0)\n",
    "suma_fila = np.sum(matris4x4 , axis=1)\n",
    "\n",
    "print(f'la matris usada es: \\n {matris4x4} \\n suma de columnas es: {suma_colum} \\n suma de filas es: {suma_fila}')"
   ]
  }
 ],
 "metadata": {
  "kernelspec": {
   "display_name": "Python 3",
   "language": "python",
   "name": "python3"
  },
  "language_info": {
   "codemirror_mode": {
    "name": "ipython",
    "version": 3
   },
   "file_extension": ".py",
   "mimetype": "text/x-python",
   "name": "python",
   "nbconvert_exporter": "python",
   "pygments_lexer": "ipython3",
   "version": "3.10.12"
  }
 },
 "nbformat": 4,
 "nbformat_minor": 5
}
