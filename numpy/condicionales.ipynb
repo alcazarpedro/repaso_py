{
 "cells": [
  {
   "cell_type": "code",
   "execution_count": 1,
   "id": "68528d66",
   "metadata": {},
   "outputs": [],
   "source": [
    "import numpy as np"
   ]
  },
  {
   "cell_type": "code",
   "execution_count": 3,
   "id": "ea833362",
   "metadata": {},
   "outputs": [
    {
     "data": {
      "text/plain": [
       "array([False, False, False, False, False, False,  True,  True,  True,\n",
       "        True])"
      ]
     },
     "execution_count": 3,
     "metadata": {},
     "output_type": "execute_result"
    }
   ],
   "source": [
    "arreglo = np.arange(0,10)\n",
    "arreglo\n",
    "mayorescinco = arreglo > 5\n",
    "mayorescinco"
   ]
  },
  {
   "cell_type": "code",
   "execution_count": 12,
   "id": "7328aca3",
   "metadata": {},
   "outputs": [
    {
     "data": {
      "text/plain": [
       "array([15, 19, 19, 13, 12])"
      ]
     },
     "execution_count": 12,
     "metadata": {},
     "output_type": "execute_result"
    }
   ],
   "source": [
    "matris3x3 = np.random.randint(0,20,9).reshape(3,3)\n",
    "media = matris3x3.mean()\n",
    "mayor_media = matris3x3[ matris3x3 > media]\n",
    "mayor_media"
   ]
  },
  {
   "cell_type": "code",
   "execution_count": 37,
   "id": "0b57ad20",
   "metadata": {},
   "outputs": [
    {
     "data": {
      "text/plain": [
       "array([39, 35])"
      ]
     },
     "execution_count": 37,
     "metadata": {},
     "output_type": "execute_result"
    }
   ],
   "source": [
    "elementos = np.random.randint(0,45,15)\n",
    "elementos\n",
    "\n",
    "rangos = elementos[[3,7]]\n",
    "rangos "
   ]
  },
  {
   "cell_type": "code",
   "execution_count": 42,
   "id": "83f7ba24",
   "metadata": {},
   "outputs": [
    {
     "data": {
      "text/plain": [
       "array([-1.        , -1.        ,  0.15133966,  0.25753934,  0.07508684,\n",
       "       -1.        , -1.        ,  0.09941016])"
      ]
     },
     "execution_count": 42,
     "metadata": {},
     "output_type": "execute_result"
    }
   ],
   "source": [
    "variables = np.random.rand(8)\n",
    "variables[variables > 0.3] = -1\n",
    "variables\n",
    "\n"
   ]
  }
 ],
 "metadata": {
  "kernelspec": {
   "display_name": "Python 3",
   "language": "python",
   "name": "python3"
  },
  "language_info": {
   "codemirror_mode": {
    "name": "ipython",
    "version": 3
   },
   "file_extension": ".py",
   "mimetype": "text/x-python",
   "name": "python",
   "nbconvert_exporter": "python",
   "pygments_lexer": "ipython3",
   "version": "3.10.12"
  }
 },
 "nbformat": 4,
 "nbformat_minor": 5
}
